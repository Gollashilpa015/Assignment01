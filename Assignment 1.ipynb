{
 "cells": [
  {
   "cell_type": "raw",
   "id": "58b3ea8e",
   "metadata": {},
   "source": [
    "1. In the below elements which of them are values or an expression? eg:- values can be\n",
    "\n",
    "integer or string and expressions will be mathematical operators.\n",
    "\n",
    "*        ----expression\n",
    "\n",
    "'hello'  ------value\n",
    "\n",
    "-87.8    ------value\n",
    "\n",
    "-    --------------expression\n",
    "\n",
    "/       -------------------expression \n",
    "\n",
    "+   ----------------------expression\n",
    "\n",
    "6  ---------------------value"
   ]
  },
  {
   "cell_type": "raw",
   "id": "a9a18f4a",
   "metadata": {},
   "source": [
    "2. What is the difference between string and variable?\n",
    "\n",
    "String: String can be written in quotes such: \"shilpa\", 'shilpa'\n",
    "\n",
    "Variable: It is the thing in which we can store data just like a container."
   ]
  },
  {
   "cell_type": "raw",
   "id": "5e9d0d8d",
   "metadata": {},
   "source": [
    "3. Describe three different data types.\n",
    "\n",
    "List: the list is used for storing multiple data items in a single variable.\n",
    "\n",
    "Integer: integer can store only numerical values.\n",
    "\n",
    "Float: float can store only floating values such as 3.33,50.22,etc.."
   ]
  },
  {
   "cell_type": "raw",
   "id": "62ebfc69",
   "metadata": {},
   "source": [
    "4. What is an expression made up of? What do all expressions do? \n",
    "\n",
    "Expression is made up of values, containers, and mathematical operators. \n",
    "\n",
    "e.g \n",
    "\n",
    "     a = 5+2   and expressions are used to evaluate the values or represent the result on the screen."
   ]
  },
  {
   "cell_type": "raw",
   "id": "bf7b1bfa",
   "metadata": {},
   "source": [
    "5. This assignment statements, like spam = 10. What is the difference between an expression and a statement?\n",
    "\n",
    "Expression is made up of values, containers, and mathematical operators (operands) and the statement is just like a command that a python interpreter executes like print."
   ]
  },
  {
   "cell_type": "code",
   "execution_count": 2,
   "id": "e9216ac5",
   "metadata": {},
   "outputs": [
    {
     "data": {
      "text/plain": [
       "23"
      ]
     },
     "execution_count": 2,
     "metadata": {},
     "output_type": "execute_result"
    }
   ],
   "source": [
    "#6. After running the following code, what does the variable bacon contain?\n",
    "\n",
    "bacon = 22\n",
    "\n",
    "bacon + 1\n",
    "\n"
   ]
  },
  {
   "cell_type": "code",
   "execution_count": 3,
   "id": "fbc8afee",
   "metadata": {},
   "outputs": [
    {
     "data": {
      "text/plain": [
       "'spamspamspam'"
      ]
     },
     "execution_count": 3,
     "metadata": {},
     "output_type": "execute_result"
    }
   ],
   "source": [
    "#7. What should the values of the following two terms be?\n",
    "\n",
    "'spam' + 'spamspam'\n",
    "\n",
    "'spam' * 3\n",
    "#sol: it will be the same"
   ]
  },
  {
   "cell_type": "raw",
   "id": "4dd8bdb8",
   "metadata": {},
   "source": [
    "8. Why is eggs a valid variable name while 100 is invalid?\n",
    "\n",
    "Ans: because we can't start giving variable an integer name. if we, we should begin with, a string-like alphabet name then integer. e100 or eggs100 is valid."
   ]
  },
  {
   "cell_type": "raw",
   "id": "55812277",
   "metadata": {},
   "source": [
    "9. What three functions can be used to get the integer, floating-point number, or string version of a value?\n",
    "\n",
    "ans: str(), int(), float()"
   ]
  },
  {
   "cell_type": "raw",
   "id": "9601cef9",
   "metadata": {},
   "source": [
    "10. Why does this expression cause an error? How can you fix it?\n",
    "\n",
    "'I have eaten' + 99 + 'burritos' \n",
    "\n",
    "sol:  because 99 is an integer it cannot be concatenated with strings, if we have to concatenate it we need to do typecasting.\n",
    "\n",
    "I have eaten ' + str(99) + ' burritos.\n"
   ]
  }
 ],
 "metadata": {
  "kernelspec": {
   "display_name": "Python 3 (ipykernel)",
   "language": "python",
   "name": "python3"
  },
  "language_info": {
   "codemirror_mode": {
    "name": "ipython",
    "version": 3
   },
   "file_extension": ".py",
   "mimetype": "text/x-python",
   "name": "python",
   "nbconvert_exporter": "python",
   "pygments_lexer": "ipython3",
   "version": "3.9.12"
  }
 },
 "nbformat": 4,
 "nbformat_minor": 5
}
